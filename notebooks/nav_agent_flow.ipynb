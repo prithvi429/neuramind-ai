{
 "cells": [
  {
   "cell_type": "markdown",
   "id": "50d2eb11",
   "metadata": {},
   "source": [
    "# Navigation Agent Flow\n",
    "This notebook demonstrates the flow of the navigation agent, including route planning and response generation."
   ]
  },
  {
   "cell_type": "code",
   "execution_count": null,
   "id": "c0c82009",
   "metadata": {},
   "outputs": [],
   "source": [
    "# Import the navigation agent\n",
    "from backend.nav_agent import get_route"
   ]
  },
  {
   "cell_type": "code",
   "execution_count": null,
   "id": "64335826",
   "metadata": {},
   "outputs": [],
   "source": [
    "# Example usage of the navigation agent\n",
    "start_location = 'New York'\n",
    "end_location = 'Los Angeles'\n",
    "route = get_route(start_location, end_location)\n",
    "print(route)"
   ]
  }
 ],
 "metadata": {
  "language_info": {
   "name": "python"
  }
 },
 "nbformat": 4,
 "nbformat_minor": 5
}
