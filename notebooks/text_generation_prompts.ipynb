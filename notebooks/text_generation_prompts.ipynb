{
 "cells": [
  {
   "cell_type": "markdown",
   "id": "823a4dc1",
   "metadata": {},
   "source": [
    "# Text Generation Prompts\n",
    "This notebook explores various prompts for the writing agent and evaluates the generated responses."
   ]
  },
  {
   "cell_type": "code",
   "execution_count": null,
   "id": "4b8d5ad1",
   "metadata": {},
   "outputs": [],
   "source": [
    "# Import the writing agent\n",
    "from agents.writing_agent import generate_content"
   ]
  },
  {
   "cell_type": "code",
   "execution_count": null,
   "id": "66db93b8",
   "metadata": {},
   "outputs": [],
   "source": [
    "# Example prompt for text generation\n",
    "prompt = 'Write a short story about a futuristic AI assistant helping humanity.'\n",
    "response = generate_content(prompt)\n",
    "print(response)"
   ]
  }
 ],
 "metadata": {
  "language_info": {
   "name": "python"
  }
 },
 "nbformat": 4,
 "nbformat_minor": 5
}
